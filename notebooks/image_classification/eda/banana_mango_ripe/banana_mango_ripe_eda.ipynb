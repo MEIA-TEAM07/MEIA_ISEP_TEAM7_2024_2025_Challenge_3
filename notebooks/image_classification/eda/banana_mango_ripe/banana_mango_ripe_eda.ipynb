{
 "cells": [
  {
   "cell_type": "markdown",
   "metadata": {},
   "source": [
    "### Note\n",
    "To run the cells in this notebook, ensure that you have the necessary datasets for image classification. These include the original banana and mango ripeness dataset, as well as the processed versions: one with the background removed and another with both the background removed and cropped. If you only have the original dataset, please run the banana_mango_ripe_image_processing.py file to process the images."
   ]
  },
  {
   "cell_type": "code",
   "execution_count": 6,
   "metadata": {},
   "outputs": [],
   "source": [
    "import os\n",
    "import cv2\n",
    "import numpy as np\n",
    "from sklearn.svm import SVC\n",
    "from sklearn.model_selection import train_test_split\n",
    "from sklearn.preprocessing import LabelEncoder\n",
    "from sklearn.metrics import classification_report\n",
    "from sklearn.ensemble import RandomForestClassifier\n",
    "from sklearn.model_selection import GridSearchCV\n"
   ]
  },
  {
   "cell_type": "markdown",
   "metadata": {},
   "source": [
    "# Dataset Loading"
   ]
  },
  {
   "cell_type": "code",
   "execution_count": 5,
   "metadata": {},
   "outputs": [
    {
     "name": "stdout",
     "output_type": "stream",
     "text": [
      "\n",
      "Dataset: original\n",
      "banana_ripe: 1000 images\n",
      "banana_raw: 999 images\n",
      "mango_ripe: 1000 images\n",
      "mango_raw: 1000 images\n",
      "\n",
      "Dataset: bg_removed\n",
      "banana_ripe: 1000 images\n",
      "banana_raw: 999 images\n",
      "mango_ripe: 1000 images\n",
      "mango_raw: 1000 images\n",
      "\n",
      "Dataset: bg_removed_cropped\n",
      "banana_ripe: 1000 images\n",
      "banana_raw: 999 images\n",
      "mango_ripe: 1000 images\n",
      "mango_raw: 1000 images\n"
     ]
    }
   ],
   "source": [
    "image_folders = {\n",
    "    \"original\": \"../../../../datasets/banana_mango_ripe/train/images\",\n",
    "    \"bg_removed\": \"../../../../datasets/banana_mango_ripe/images_background_removed\",\n",
    "    \"bg_removed_cropped\": \"../../../../datasets/banana_mango_ripe/images_background_removed_cropped\"\n",
    "}\n",
    "\n",
    "dataset_variations = {\n",
    "    \"original\": {\"banana_ripe\": [], \"banana_raw\": [], \"mango_ripe\": [], \"mango_raw\": []},\n",
    "    \"bg_removed\": {\"banana_ripe\": [], \"banana_raw\": [], \"mango_ripe\": [], \"mango_raw\": []},\n",
    "    \"bg_removed_cropped\": {\"banana_ripe\": [], \"banana_raw\": [], \"mango_ripe\": [], \"mango_raw\": []},\n",
    "}\n",
    "\n",
    "def load_images(folder_key):\n",
    "    folder_path = image_folders[folder_key]\n",
    "\n",
    "    for file in os.listdir(folder_path):\n",
    "        img_path = os.path.join(folder_path, file)\n",
    "        img = cv2.imread(img_path)\n",
    "        \n",
    "        IMG_SIZE = (64, 64)\n",
    "        img = cv2.resize(img, IMG_SIZE)\n",
    "        img = img.flatten()\n",
    "\n",
    "        if \"Ripe_Banana\" in file:\n",
    "            dataset_variations[folder_key][\"banana_ripe\"].append(img)\n",
    "        elif \"Raw_Banana\" in file:\n",
    "            dataset_variations[folder_key][\"banana_raw\"].append(img)\n",
    "        elif \"Ripe_Mango\" in file:\n",
    "            dataset_variations[folder_key][\"mango_ripe\"].append(img)\n",
    "        elif \"Raw_Mango\" in file:\n",
    "            dataset_variations[folder_key][\"mango_raw\"].append(img)\n",
    "\n",
    "\n",
    "for key in dataset_variations.keys():\n",
    "    load_images(key)\n",
    "\n",
    "for key, categories in dataset_variations.items():\n",
    "    print(f\"\\nDataset: {key}\")\n",
    "    for category, images in categories.items():\n",
    "        print(f\"{category}: {len(images)} images\")"
   ]
  },
  {
   "cell_type": "markdown",
   "metadata": {},
   "source": [
    "# Model Training Functions"
   ]
  },
  {
   "cell_type": "code",
   "execution_count": 9,
   "metadata": {},
   "outputs": [],
   "source": [
    "def create_svc_grid_search():\n",
    "    param_grid = {\n",
    "        \"C\": [0.1, 1, 10],\n",
    "        \"kernel\": [\"linear\", \"rbf\"],\n",
    "        \"gamma\": [\"scale\", \"auto\"]\n",
    "    }\n",
    "    return GridSearchCV(SVC(), param_grid, cv=5, scoring='accuracy', n_jobs=-1)\n",
    "\n",
    "def create_random_forest_grid_search():\n",
    "    param_grid = {\n",
    "        \"n_estimators\": [100, 200, 300],\n",
    "        \"max_depth\": [5, 10, 20],\n",
    "        \"random_state\": [42]\n",
    "    }\n",
    "    return GridSearchCV(RandomForestClassifier(), param_grid, cv=5, scoring='accuracy', n_jobs=-1)\n",
    "\n",
    "def train_model_treated(X, y, model_name, model_type):\n",
    "    label_encoder = LabelEncoder()\n",
    "    y_encoded = label_encoder.fit_transform(y)\n",
    "\n",
    "    X_train, X_test, y_train, y_test = train_test_split(X, y_encoded, test_size=0.2, random_state=42)\n",
    "\n",
    "    grid_search = None\n",
    "    if model_type == \"SVC\":\n",
    "        grid_search = create_svc_grid_search()\n",
    "    elif model_type == \"RandomForest\":\n",
    "        grid_search = create_random_forest_grid_search()\n",
    "    \n",
    "    grid_search.fit(X_train, y_train)\n",
    "\n",
    "    best_model = grid_search.best_estimator_\n",
    "    y_pred = best_model.predict(X_test)\n",
    "\n",
    "    report = classification_report(y_test, y_pred, target_names=label_encoder.classes_)\n",
    "    print(f\"{model_name} Best Params: {grid_search.best_params_}\")\n",
    "    print(f\"{model_name} Classification Report:\\n{report}\")\n",
    "\n",
    "    return best_model\n",
    "\n",
    "def train_model(dataset, model_type):\n",
    "    banana_ripe, banana_raw = np.array(dataset[\"banana_ripe\"]), np.array(dataset[\"banana_raw\"])\n",
    "    mango_ripe, mango_raw = np.array(dataset[\"mango_ripe\"]), np.array(dataset[\"mango_raw\"])\n",
    "\n",
    "    X_banana = np.vstack((banana_ripe, banana_raw))\n",
    "    y_banana = [\"ripe\"] * len(banana_ripe) + [\"raw\"] * len(banana_raw)\n",
    "    train_model_treated(X_banana, y_banana, \"Banana\", model_type)\n",
    "\n",
    "    X_mango = np.vstack((mango_ripe, mango_raw))\n",
    "    y_mango = [\"ripe\"] * len(mango_ripe) + [\"raw\"] * len(mango_raw)\n",
    "    train_model_treated(X_mango, y_mango, \"Mango\", model_type)"
   ]
  },
  {
   "cell_type": "markdown",
   "metadata": {},
   "source": [
    "# SVC"
   ]
  },
  {
   "cell_type": "markdown",
   "metadata": {},
   "source": [
    "### SVC with noisy background"
   ]
  },
  {
   "cell_type": "code",
   "execution_count": 10,
   "metadata": {},
   "outputs": [
    {
     "name": "stdout",
     "output_type": "stream",
     "text": [
      "Banana Best Params: {'C': 10, 'gamma': 'scale', 'kernel': 'rbf'}\n",
      "Banana Classification Report:\n",
      "              precision    recall  f1-score   support\n",
      "\n",
      "         raw       0.95      0.97      0.96       193\n",
      "        ripe       0.97      0.95      0.96       207\n",
      "\n",
      "    accuracy                           0.96       400\n",
      "   macro avg       0.96      0.96      0.96       400\n",
      "weighted avg       0.96      0.96      0.96       400\n",
      "\n",
      "Mango Best Params: {'C': 10, 'gamma': 'scale', 'kernel': 'rbf'}\n",
      "Mango Classification Report:\n",
      "              precision    recall  f1-score   support\n",
      "\n",
      "         raw       0.97      0.98      0.97       201\n",
      "        ripe       0.98      0.96      0.97       199\n",
      "\n",
      "    accuracy                           0.97       400\n",
      "   macro avg       0.97      0.97      0.97       400\n",
      "weighted avg       0.97      0.97      0.97       400\n",
      "\n"
     ]
    }
   ],
   "source": [
    "train_model(dataset_variations[\"original\"], \"SVC\")"
   ]
  },
  {
   "cell_type": "markdown",
   "metadata": {},
   "source": [
    "### SVC with background removed"
   ]
  },
  {
   "cell_type": "code",
   "execution_count": 11,
   "metadata": {},
   "outputs": [
    {
     "name": "stdout",
     "output_type": "stream",
     "text": [
      "Banana Best Params: {'C': 10, 'gamma': 'scale', 'kernel': 'rbf'}\n",
      "Banana Classification Report:\n",
      "              precision    recall  f1-score   support\n",
      "\n",
      "         raw       0.89      0.84      0.87       193\n",
      "        ripe       0.86      0.90      0.88       207\n",
      "\n",
      "    accuracy                           0.88       400\n",
      "   macro avg       0.88      0.87      0.87       400\n",
      "weighted avg       0.88      0.88      0.87       400\n",
      "\n",
      "Mango Best Params: {'C': 10, 'gamma': 'scale', 'kernel': 'rbf'}\n",
      "Mango Classification Report:\n",
      "              precision    recall  f1-score   support\n",
      "\n",
      "         raw       0.93      0.91      0.92       201\n",
      "        ripe       0.91      0.93      0.92       199\n",
      "\n",
      "    accuracy                           0.92       400\n",
      "   macro avg       0.92      0.92      0.92       400\n",
      "weighted avg       0.92      0.92      0.92       400\n",
      "\n"
     ]
    }
   ],
   "source": [
    "train_model(dataset_variations[\"bg_removed\"], \"SVC\")"
   ]
  },
  {
   "cell_type": "markdown",
   "metadata": {},
   "source": [
    "### SVC background removed and cropped"
   ]
  },
  {
   "cell_type": "code",
   "execution_count": 12,
   "metadata": {},
   "outputs": [
    {
     "name": "stdout",
     "output_type": "stream",
     "text": [
      "Banana Best Params: {'C': 10, 'gamma': 'scale', 'kernel': 'rbf'}\n",
      "Banana Classification Report:\n",
      "              precision    recall  f1-score   support\n",
      "\n",
      "         raw       0.92      0.92      0.92       193\n",
      "        ripe       0.92      0.93      0.93       207\n",
      "\n",
      "    accuracy                           0.92       400\n",
      "   macro avg       0.92      0.92      0.92       400\n",
      "weighted avg       0.92      0.92      0.92       400\n",
      "\n",
      "Mango Best Params: {'C': 10, 'gamma': 'scale', 'kernel': 'rbf'}\n",
      "Mango Classification Report:\n",
      "              precision    recall  f1-score   support\n",
      "\n",
      "         raw       0.97      0.97      0.97       201\n",
      "        ripe       0.97      0.97      0.97       199\n",
      "\n",
      "    accuracy                           0.97       400\n",
      "   macro avg       0.97      0.97      0.97       400\n",
      "weighted avg       0.97      0.97      0.97       400\n",
      "\n"
     ]
    }
   ],
   "source": [
    "train_model(dataset_variations[\"bg_removed_cropped\"], \"SVC\")"
   ]
  },
  {
   "cell_type": "markdown",
   "metadata": {},
   "source": [
    "# Random Forest"
   ]
  },
  {
   "cell_type": "markdown",
   "metadata": {},
   "source": [
    "### Random Forest with noisy background"
   ]
  },
  {
   "cell_type": "code",
   "execution_count": 13,
   "metadata": {},
   "outputs": [
    {
     "name": "stdout",
     "output_type": "stream",
     "text": [
      "Banana Best Params: {'max_depth': 10, 'n_estimators': 300, 'random_state': 42}\n",
      "Banana Classification Report:\n",
      "              precision    recall  f1-score   support\n",
      "\n",
      "         raw       0.94      0.95      0.95       193\n",
      "        ripe       0.96      0.94      0.95       207\n",
      "\n",
      "    accuracy                           0.95       400\n",
      "   macro avg       0.95      0.95      0.95       400\n",
      "weighted avg       0.95      0.95      0.95       400\n",
      "\n",
      "Mango Best Params: {'max_depth': 20, 'n_estimators': 300, 'random_state': 42}\n",
      "Mango Classification Report:\n",
      "              precision    recall  f1-score   support\n",
      "\n",
      "         raw       0.95      0.98      0.96       201\n",
      "        ripe       0.97      0.94      0.96       199\n",
      "\n",
      "    accuracy                           0.96       400\n",
      "   macro avg       0.96      0.96      0.96       400\n",
      "weighted avg       0.96      0.96      0.96       400\n",
      "\n"
     ]
    }
   ],
   "source": [
    "train_model(dataset_variations[\"original\"], \"RandomForest\")"
   ]
  },
  {
   "cell_type": "markdown",
   "metadata": {},
   "source": [
    "### Random Forest background removed"
   ]
  },
  {
   "cell_type": "code",
   "execution_count": 14,
   "metadata": {},
   "outputs": [
    {
     "name": "stdout",
     "output_type": "stream",
     "text": [
      "Banana Best Params: {'max_depth': 20, 'n_estimators': 200, 'random_state': 42}\n",
      "Banana Classification Report:\n",
      "              precision    recall  f1-score   support\n",
      "\n",
      "         raw       0.87      0.83      0.85       193\n",
      "        ripe       0.85      0.89      0.87       207\n",
      "\n",
      "    accuracy                           0.86       400\n",
      "   macro avg       0.86      0.86      0.86       400\n",
      "weighted avg       0.86      0.86      0.86       400\n",
      "\n",
      "Mango Best Params: {'max_depth': 20, 'n_estimators': 200, 'random_state': 42}\n",
      "Mango Classification Report:\n",
      "              precision    recall  f1-score   support\n",
      "\n",
      "         raw       0.92      0.94      0.93       201\n",
      "        ripe       0.93      0.92      0.93       199\n",
      "\n",
      "    accuracy                           0.93       400\n",
      "   macro avg       0.93      0.93      0.93       400\n",
      "weighted avg       0.93      0.93      0.93       400\n",
      "\n"
     ]
    }
   ],
   "source": [
    "train_model(dataset_variations[\"bg_removed\"], \"RandomForest\")"
   ]
  },
  {
   "cell_type": "markdown",
   "metadata": {},
   "source": [
    "### Random Forest background removed and cropped"
   ]
  },
  {
   "cell_type": "code",
   "execution_count": 15,
   "metadata": {},
   "outputs": [
    {
     "name": "stdout",
     "output_type": "stream",
     "text": [
      "Banana Best Params: {'max_depth': 10, 'n_estimators': 300, 'random_state': 42}\n",
      "Banana Classification Report:\n",
      "              precision    recall  f1-score   support\n",
      "\n",
      "         raw       0.86      0.90      0.88       193\n",
      "        ripe       0.90      0.87      0.88       207\n",
      "\n",
      "    accuracy                           0.88       400\n",
      "   macro avg       0.88      0.88      0.88       400\n",
      "weighted avg       0.88      0.88      0.88       400\n",
      "\n",
      "Mango Best Params: {'max_depth': 20, 'n_estimators': 300, 'random_state': 42}\n",
      "Mango Classification Report:\n",
      "              precision    recall  f1-score   support\n",
      "\n",
      "         raw       0.96      0.98      0.97       201\n",
      "        ripe       0.98      0.96      0.97       199\n",
      "\n",
      "    accuracy                           0.97       400\n",
      "   macro avg       0.97      0.97      0.97       400\n",
      "weighted avg       0.97      0.97      0.97       400\n",
      "\n"
     ]
    }
   ],
   "source": [
    "train_model(dataset_variations[\"bg_removed_cropped\"], \"RandomForest\")"
   ]
  },
  {
   "cell_type": "markdown",
   "metadata": {},
   "source": [
    "# Summary\n",
    "Simpler machine learning techniques, rather than deep learning methods, were employed to assess the dataset’s performance. Specifically, Support Vector Classification (SVC) and Random Forest were used to verify whether the dataset could yield positive results despite the use of less complex models.\n",
    "\n",
    "The results demonstrated that even with simpler models, the dataset produced highly positive outcomes. The SVC model yielded the best performance, although both SVC and Random Forest delivered similar results, with an accuracy of 97% in correctly identifying the ripeness of both bananas and mangoes. All other performance metrics were also strong, especially when optimized using GridSearch.\n",
    "\n",
    "To enhance model performance, images were preprocessed through background removal and cropping to focus primarily on the fruit. While this approach generally resulted in acceptable images, some contained noise, such as foreign objects like hands, laptops, and tables. Interestingly, the use of these processed images led to a decrease in performance, suggesting that background information may contribute to classification accuracy."
   ]
  }
 ],
 "metadata": {
  "kernelspec": {
   "display_name": "base",
   "language": "python",
   "name": "python3"
  },
  "language_info": {
   "codemirror_mode": {
    "name": "ipython",
    "version": 3
   },
   "file_extension": ".py",
   "mimetype": "text/x-python",
   "name": "python",
   "nbconvert_exporter": "python",
   "pygments_lexer": "ipython3",
   "version": "3.11.5"
  }
 },
 "nbformat": 4,
 "nbformat_minor": 2
}
